{
 "cells": [
  {
   "cell_type": "code",
   "execution_count": 7,
   "metadata": {},
   "outputs": [],
   "source": [
    "import numpy as np\n",
    "import matplotlib.pyplot as plt\n",
    "from matplotlib.colors import Normalize\n",
    "import pandas as pd\n",
    "import seaborn as sns\n",
    "from sklearn.pipeline import make_pipeline\n",
    "from sklearn.preprocessing import StandardScaler, FunctionTransformer\n",
    "from sklearn.model_selection import train_test_split\n",
    "from sklearn.metrics import confusion_matrix, classification_report\n",
    "from sklearn.model_selection import GridSearchCV, StratifiedShuffleSplit\n",
    "from sklearn.svm import SVC\n",
    "from sklearn import svm\n",
    "from sklearn.neural_network import MLPClassifier\n",
    "from sklearn.ensemble import RandomForestClassifier\n",
    "from sklearn.model_selection import cross_val_score\n",
    "from sklearn.neighbors import KNeighborsClassifier\n",
    "from sklearn.utils import resample"
   ]
  },
  {
   "cell_type": "markdown",
   "metadata": {},
   "source": [
    " # Load data"
   ]
  },
  {
   "cell_type": "code",
   "execution_count": 8,
   "metadata": {},
   "outputs": [
    {
     "name": "stdout",
     "output_type": "stream",
     "text": [
      "                Al         Ti         Li         Ge         Sr\n",
      "count    26.000000  26.000000  26.000000  26.000000  26.000000\n",
      "mean   1143.540170   3.267885   3.428393   5.324747   0.128735\n",
      "std     526.248141   2.287675   2.789890   1.861824   0.243599\n",
      "min      54.044429   0.665000   0.690000   2.400000   0.010000\n",
      "25%     852.250000   1.900000   1.450000   3.725000   0.010000\n",
      "50%    1223.500000   2.750000   2.500000   5.100000   0.025000\n",
      "75%    1573.750000   3.950000   4.275000   6.700000   0.117500\n",
      "max    2098.000000  12.000000  12.400000   9.000000   0.940000\n"
     ]
    }
   ],
   "source": [
    "label_order = [\n",
    "   \n",
    "    \"granite\",\n",
    "    \"pegmatite\",\n",
    "    \"greisen\",\n",
    "     \"porphyry\",\n",
    "     \"skarn\",\n",
    "     \"IRG\",\n",
    "    \"orogenic\",\n",
    "    \"epithermal\",\n",
    "    \"carlin\",\n",
    "]\n",
    "\n",
    "data = pd.read_excel(\"quartz_trace_elements.xlsx\")\n",
    "df = data.loc[:, [\"qtype\", \"Al\", \"Ti\", \"Li\", \"Ge\", \"Sr\"]]  # \"Al / Li\", \"Al / atomic mass of Al + Li / atomic mass of Li\"\"\n",
    "\n",
    "for col_i in range(1, 6):\n",
    "    df.iloc[:, col_i] = pd.to_numeric(df.iloc[:, col_i], errors=\"coerce\")\n",
    "df.dropna(inplace=True)\n",
    "\n",
    "epithermal = df.loc[df['qtype']=='epithermal', :]\n",
    "print(epithermal.describe())\n",
    "\n",
    "X = df.copy(deep=True)\n"
   ]
  },
  {
   "cell_type": "code",
   "execution_count": 9,
   "metadata": {},
   "outputs": [],
   "source": [
    "def my_resample(n_samples=None, data=df, random_state=0, target='qtype'):\n",
    "    if n_samples == None:\n",
    "        n_samples = 26\n",
    "#     if  data:\n",
    "#         global df\n",
    "#         data = df\n",
    "    upsampled = []\n",
    "    if target == 'qtype':\n",
    "        for qtype in ['epithermal', 'pegmatite', 'IRG', 'carlin','orogenic', 'greisen', 'porphyry', 'granite', 'skarn']:\n",
    "            tem = data.loc[data['qtype']==qtype, :]\n",
    "            upsampled.append(resample(tem, n_samples=n_samples, random_state=random_state))  \n",
    "    else:\n",
    "        for qtype in range(9):\n",
    "            tem = data.loc[data['label']==qtype, :]\n",
    "            upsampled.append(resample(tem, n_samples=n_samples, random_state=random_state)) \n",
    "    upsampled_cat = pd.concat(upsampled)\n",
    "    labels = upsampled_cat#.pop('qtype')\n",
    "    return upsampled_cat #,labels\n",
    "\n",
    "test = my_resample(100)\n",
    "# test"
   ]
  },
  {
   "cell_type": "code",
   "execution_count": 10,
   "metadata": {},
   "outputs": [],
   "source": [
    "# upsampled = []\n",
    "# for qtype in ['epithermal', 'pegmatite', 'IRG', 'carlin']:\n",
    "#     tem = X.loc[X['qtype']==qtype, :]\n",
    "#     upsampled.append(resample(tem, n_samples=200, random_state=0))  \n",
    "# upsampled_cat = pd.concat(upsampled)\n",
    "# X = pd.concat([X.loc[X['qtype']=='orogenic', :],\n",
    "#                X.loc[X['qtype']=='greisen', :],\n",
    "#                X.loc[X['qtype']=='porphyry', :],\n",
    "#                X.loc[X['qtype']=='granite', :],\n",
    "#                X.loc[X['qtype']=='skarn', :],\n",
    "#                upsampled_cat])\n"
   ]
  },
  {
   "cell_type": "code",
   "execution_count": 11,
   "metadata": {
    "scrolled": true
   },
   "outputs": [
    {
     "name": "stdout",
     "output_type": "stream",
     "text": [
      "orogenic      339\n",
      "greisen       325\n",
      "porphyry      272\n",
      "granite       237\n",
      "skarn         203\n",
      "carlin        127\n",
      "IRG            96\n",
      "pegmatite      65\n",
      "epithermal     26\n",
      "Name: qtype, dtype: int64\n"
     ]
    }
   ],
   "source": [
    "y = X.pop('qtype')\n",
    "print(y.value_counts())  # number of samples in each class\n",
    "y_int, index = pd.factorize(y, sort=True)\n",
    "y = y_int\n",
    "index\n",
    "# print(len(X))  # number of samples\n",
    "# print(y.value_counts()) # number of samples in each class"
   ]
  },
  {
   "cell_type": "code",
   "execution_count": 12,
   "metadata": {},
   "outputs": [],
   "source": [
    "# split the data set\n",
    "X_train, X_test, y_train, y_test = train_test_split(X, y, test_size=0.2, random_state=2)\n",
    "\n",
    "# samples in test set for each class\n",
    "# y_test.value_counts()\n"
   ]
  },
  {
   "cell_type": "code",
   "execution_count": 13,
   "metadata": {},
   "outputs": [],
   "source": [
    "# # Upsapling on training set\n",
    "\n",
    "# X_train['label'] = y_train\n",
    "# # X_train = my_resample(n_samples=150, data=X_train, random_state=0, target='label')\n",
    "# upsampled = []\n",
    "\n",
    "# peg = X_train.loc[X_train['label']==0, :]\n",
    "# upsampled.append(resample(peg, n_samples=40, random_state=0))\n",
    "# epi = X_train.loc[X_train['label']==7, :]\n",
    "# upsampled.append(resample(epi, n_samples=80, random_state=0))\n",
    "# upsampled_cat = pd.concat(upsampled)\n",
    "\n",
    "\n",
    "\n",
    "# X_train = pd.concat([X_train, upsampled_cat])\n",
    "# y_train = X_train.pop('label')\n",
    "# y_train.value_counts()"
   ]
  },
  {
   "cell_type": "markdown",
   "metadata": {},
   "source": [
    "# Compare algorithms"
   ]
  },
  {
   "cell_type": "code",
   "execution_count": 14,
   "metadata": {},
   "outputs": [
    {
     "name": "stdout",
     "output_type": "stream",
     "text": [
      "0.69±0.03\n",
      "0.83±0.03\n",
      "0.84±0.02\n",
      "0.81±0.02\n",
      "0.79±0.02\n"
     ]
    }
   ],
   "source": [
    "X_compare = np.log(X_train)\n",
    "X_compare = StandardScaler().fit_transform(X_compare)\n",
    "C = 1\n",
    "models = (\n",
    "          svm.SVC(kernel='linear', C=C, class_weight=None),\n",
    "#           svm.LinearSVC(C=C)\n",
    "          KNeighborsClassifier(),\n",
    "          RandomForestClassifier(),\n",
    "#           svm.SVC(kernel='poly', degree=3, gamma='auto', C=C, class_weight='balanced'),\n",
    "          svm.SVC(kernel='rbf', C=C), #, class_weight='balanced'),\n",
    "          MLPClassifier(alpha=0.1),#16, max_iter=2000\n",
    "         )\n",
    "for clf in models:\n",
    "    scores = cross_val_score(clf, X_compare, y_train, cv=5, scoring='f1_macro', n_jobs=-1)\n",
    "    print(f'{scores.mean():2.2f}' + '±' + f'{scores.std():2.2f}')"
   ]
  },
  {
   "cell_type": "markdown",
   "metadata": {},
   "source": [
    " # Make Pipeline"
   ]
  },
  {
   "cell_type": "code",
   "execution_count": 15,
   "metadata": {},
   "outputs": [
    {
     "data": {
      "text/plain": [
       "Pipeline(steps=[('functiontransformer',\n",
       "                 FunctionTransformer(func=<ufunc 'log'>, validate=True)),\n",
       "                ('standardscaler', StandardScaler()),\n",
       "                ('svc', SVC(cache_size=1000))])"
      ]
     },
     "execution_count": 15,
     "metadata": {},
     "output_type": "execute_result"
    }
   ],
   "source": [
    "log_transformer = FunctionTransformer(np.log, validate=True)\n",
    "pipe_clf = make_pipeline(log_transformer, StandardScaler(), SVC(cache_size=1000, class_weight=None, probability=False))\n",
    "pipe_clf\n"
   ]
  },
  {
   "cell_type": "markdown",
   "metadata": {},
   "source": [
    " # Parameter estimation using grid search with cross-validation and retrain\n"
   ]
  },
  {
   "cell_type": "code",
   "execution_count": 16,
   "metadata": {},
   "outputs": [],
   "source": [
    "class MidpointNormalize(Normalize):\n",
    "    def __init__(self, vmin=None, vmax=None, midpoint=None, clip=False):\n",
    "        self.midpoint = midpoint\n",
    "        Normalize.__init__(self, vmin, vmax, clip)\n",
    "\n",
    "    def __call__(self, value, clip=None):\n",
    "        x, y = [self.vmin, self.midpoint, self.vmax], [0, 0.5, 1]\n",
    "        return np.ma.masked_array(np.interp(value, x, y))\n"
   ]
  },
  {
   "cell_type": "code",
   "execution_count": 17,
   "metadata": {},
   "outputs": [
    {
     "name": "stdout",
     "output_type": "stream",
     "text": [
      "[2.50e-01 5.00e-01 1.00e+00 2.00e+00 4.00e+00 8.00e+00 1.60e+01 3.20e+01\n",
      " 6.40e+01 1.28e+02 2.56e+02 5.12e+02]\n"
     ]
    }
   ],
   "source": [
    "C_range = np.logspace(-2, 9, 12, base=2)\n",
    "gamma_range = np.logspace(-7, 4, 12, base=2)\n",
    "\n",
    "param_grid = {\"svc__kernel\": [\"rbf\"], \"svc__gamma\": gamma_range, \"svc__C\": C_range}\n",
    "cv = StratifiedShuffleSplit(n_splits=5, test_size=0.2, random_state=2)\n",
    "print(C_range)"
   ]
  },
  {
   "cell_type": "code",
   "execution_count": 18,
   "metadata": {},
   "outputs": [
    {
     "name": "stdout",
     "output_type": "stream",
     "text": [
      "The best parameters are {'svc__C': 2.0, 'svc__gamma': 0.5, 'svc__kernel': 'rbf'} with a score of 0.85\n"
     ]
    }
   ],
   "source": [
    "grid = GridSearchCV(\n",
    "    pipe_clf, param_grid=param_grid, cv=10, scoring=\"f1_macro\", n_jobs=-1, refit=True\n",
    ")\n",
    "grid.fit(X_train, y_train)\n",
    "\n",
    "print(\n",
    "    \"The best parameters are %s with a score of %0.2f\"\n",
    "    % (grid.best_params_, grid.best_score_)\n",
    ")"
   ]
  },
  {
   "cell_type": "code",
   "execution_count": 19,
   "metadata": {},
   "outputs": [
    {
     "data": {
      "image/png": "[encoded data removed]",
      "text/plain": [
       "<Figure size 270x270 with 2 Axes>"
      ]
     },
     "metadata": {
      "needs_background": "light"
     },
     "output_type": "display_data"
    }
   ],
   "source": [
    "# Visualization\n",
    "\"\"\"\n",
    "Grid search for the combination of SVM cost parameter (C) and kernel width  \n",
    "that maximizes 10-fold cross-validation accuracy when classifying rock types.\n",
    "\"\"\"\n",
    "\n",
    "scores = grid.cv_results_[\"mean_test_score\"].reshape(len(C_range), len(gamma_range))\n",
    "plt.figure(figsize=(3.75, 3.75))\n",
    "plt.subplots_adjust(left=0.2, right=0.95, bottom=0.15, top=0.95)\n",
    "plt.imshow(\n",
    "    scores,\n",
    "    interpolation=\"nearest\",\n",
    "    cmap=plt.cm.cividis,\n",
    "    norm=MidpointNormalize(vmin=0.2, midpoint=0.8),\n",
    ")\n",
    "plt.xlabel(\"gamma\")\n",
    "plt.ylabel(\"C\")\n",
    "plt.colorbar()\n",
    "plt.xticks(np.arange(len(gamma_range)), gamma_range, rotation=45, ha=\"right\")\n",
    "plt.yticks(np.arange(len(C_range)), C_range)\n",
    "plt.title(\"Validation Macro F1 Score\")\n",
    "plt.savefig('heatmap.pdf', dpi=300)\n",
    "plt.savefig('heatmap.png', dpi=300)\n",
    "plt.show()\n"
   ]
  },
  {
   "cell_type": "code",
   "execution_count": null,
   "metadata": {},
   "outputs": [],
   "source": []
  },
  {
   "cell_type": "markdown",
   "metadata": {},
   "source": [
    " # Report\n"
   ]
  },
  {
   "cell_type": "code",
   "execution_count": 20,
   "metadata": {},
   "outputs": [],
   "source": [
    "y_test_pred = grid.predict(X_test)\n",
    "t_train_pred = grid.predict(X_train)"
   ]
  },
  {
   "cell_type": "code",
   "execution_count": 21,
   "metadata": {},
   "outputs": [
    {
     "name": "stdout",
     "output_type": "stream",
     "text": [
      "              precision    recall  f1-score   support\n",
      "\n",
      "         IRG       0.83      0.92      0.87        78\n",
      "      carlin       0.97      0.99      0.98        98\n",
      "  epithermal       1.00      1.00      1.00        20\n",
      "     granite       0.88      0.97      0.92       188\n",
      "     greisen       0.89      0.87      0.88       265\n",
      "    orogenic       0.94      0.90      0.92       262\n",
      "   pegmatite       0.93      0.83      0.88        60\n",
      "    porphyry       0.91      0.94      0.93       217\n",
      "       skarn       0.90      0.81      0.85       164\n",
      "\n",
      "    accuracy                           0.91      1352\n",
      "   macro avg       0.92      0.92      0.91      1352\n",
      "weighted avg       0.91      0.91      0.91      1352\n",
      "\n"
     ]
    }
   ],
   "source": [
    "# train set report\n",
    "print(classification_report(y_train, t_train_pred))"
   ]
  },
  {
   "cell_type": "code",
   "execution_count": 22,
   "metadata": {},
   "outputs": [
    {
     "name": "stdout",
     "output_type": "stream",
     "text": [
      "              precision    recall  f1-score   support\n",
      "\n",
      "         IRG       0.70      0.78      0.74        18\n",
      "      carlin       1.00      0.97      0.98        29\n",
      "  epithermal       1.00      0.83      0.91         6\n",
      "     granite       0.90      0.88      0.89        49\n",
      "     greisen       0.80      0.87      0.83        60\n",
      "    orogenic       0.85      0.83      0.84        77\n",
      "   pegmatite       0.67      0.80      0.73         5\n",
      "    porphyry       0.94      0.91      0.93        55\n",
      "       skarn       0.76      0.74      0.75        39\n",
      "\n",
      "    accuracy                           0.86       338\n",
      "   macro avg       0.85      0.84      0.84       338\n",
      "weighted avg       0.86      0.86      0.86       338\n",
      "\n",
      "[[14  0  0  0  0  2  0  2  0]\n",
      " [ 0 28  0  0  0  1  0  0  0]\n",
      " [ 1  0  5  0  0  0  0  0  0]\n",
      " [ 0  0  0 43  4  0  2  0  0]\n",
      " [ 0  0  0  3 52  2  0  0  3]\n",
      " [ 3  0  0  0  5 64  0  0  5]\n",
      " [ 0  0  0  1  0  0  4  0  0]\n",
      " [ 0  0  0  1  2  1  0 50  1]\n",
      " [ 2  0  0  0  2  5  0  1 29]]\n"
     ]
    },
    {
     "ename": "NameError",
     "evalue": "name 'index' is not defined",
     "output_type": "error",
     "traceback": [
      "\u001b[1;31m---------------------------------------------------------------------------\u001b[0m",
      "\u001b[1;31mNameError\u001b[0m                                 Traceback (most recent call last)",
      "\u001b[1;32m<ipython-input-22-61b172c9f616>\u001b[0m in \u001b[0;36m<module>\u001b[1;34m\u001b[0m\n\u001b[0;32m     22\u001b[0m         \u001b[0mlabel_order\u001b[0m\u001b[1;33m[\u001b[0m\u001b[0mi\u001b[0m\u001b[1;33m]\u001b[0m \u001b[1;33m=\u001b[0m \u001b[0mlabel_order\u001b[0m\u001b[1;33m[\u001b[0m\u001b[0mi\u001b[0m\u001b[1;33m]\u001b[0m\u001b[1;33m.\u001b[0m\u001b[0mcapitalize\u001b[0m\u001b[1;33m(\u001b[0m\u001b[1;33m)\u001b[0m\u001b[1;33m\u001b[0m\u001b[1;33m\u001b[0m\u001b[0m\n\u001b[0;32m     23\u001b[0m \u001b[1;33m\u001b[0m\u001b[0m\n\u001b[1;32m---> 24\u001b[1;33m \u001b[0mindex\u001b[0m \u001b[1;33m=\u001b[0m \u001b[0mlist\u001b[0m\u001b[1;33m(\u001b[0m\u001b[0mindex\u001b[0m\u001b[1;33m)\u001b[0m\u001b[1;33m\u001b[0m\u001b[1;33m\u001b[0m\u001b[0m\n\u001b[0m\u001b[0;32m     25\u001b[0m \u001b[1;32mfor\u001b[0m \u001b[0mi\u001b[0m \u001b[1;32min\u001b[0m \u001b[0mrange\u001b[0m\u001b[1;33m(\u001b[0m\u001b[0mlen\u001b[0m\u001b[1;33m(\u001b[0m\u001b[0mindex\u001b[0m\u001b[1;33m)\u001b[0m\u001b[1;33m)\u001b[0m\u001b[1;33m:\u001b[0m\u001b[1;33m\u001b[0m\u001b[1;33m\u001b[0m\u001b[0m\n\u001b[0;32m     26\u001b[0m     \u001b[1;32mif\u001b[0m \u001b[0mindex\u001b[0m\u001b[1;33m[\u001b[0m\u001b[0mi\u001b[0m\u001b[1;33m]\u001b[0m \u001b[1;33m==\u001b[0m \u001b[1;34m\"IRG\"\u001b[0m\u001b[1;33m:\u001b[0m\u001b[1;33m\u001b[0m\u001b[1;33m\u001b[0m\u001b[0m\n",
      "\u001b[1;31mNameError\u001b[0m: name 'index' is not defined"
     ]
    }
   ],
   "source": [
    "# final evaluation\n",
    "print(classification_report(y_test, y_test_pred, output_dict=False))\n",
    "print(confusion_matrix(y_test, y_test_pred))\n",
    "\n",
    "# heatmap the confusion matrix of test data\n",
    "# ---------------------------------------------------------------------\n",
    "label_order = [\n",
    "    \"IRG\",\n",
    "    \"carlin\",\n",
    "    \"epithermal\",\n",
    "    \"granite\",\n",
    "    \"greisen\",\n",
    "    \"orogenic\",\n",
    "    \"pegmatite\",\n",
    "    \"porphyry\",\n",
    "    \"skarn\",\n",
    "]\n",
    "for i in range(len(label_order)):\n",
    "    if label_order[i] == \"IRG\":\n",
    "        pass\n",
    "    else:\n",
    "        label_order[i] = label_order[i].capitalize()\n",
    "        \n",
    "index = list(index)\n",
    "for i in range(len(index)):\n",
    "    if index[i] == \"IRG\":\n",
    "        pass\n",
    "    else:\n",
    "        tem = index[i].capitalize()\n",
    "        index[i] = tem\n",
    "# -------------------------------------------------------------------\n",
    "cm = pd.DataFrame(\n",
    "    confusion_matrix(y_test, y_test_pred), columns=index, index=index\n",
    ")\n",
    "\n",
    "f, ax = plt.subplots(figsize=(3.75, 3.5))\n",
    "sns.heatmap(cm, annot=True, fmt=\"d\", linewidths=0.5, ax=ax, cmap=\"YlGn\")\n",
    "ax.set_title(\"Confusion matrix of test set\", fontsize=12)\n",
    "ax.set_xlabel(\"Predictions\", fontsize=12)\n",
    "ax.set_ylabel(\"True labels\", fontsize=12)\n",
    "\n",
    "plt.xticks(rotation=90)\n",
    "plt.tight_layout()\n",
    "# f.suptitle('Fig. 5', x=0.05)\n",
    "f.savefig('./confusion_matrix.png', dpi=300)\n",
    "f.savefig('./confusion_matrix.pdf', dpi=300)\n"
   ]
  },
  {
   "cell_type": "code",
   "execution_count": null,
   "metadata": {},
   "outputs": [],
   "source": []
  },
  {
   "cell_type": "code",
   "execution_count": null,
   "metadata": {},
   "outputs": [],
   "source": []
  },
  {
   "cell_type": "markdown",
   "metadata": {},
   "source": [
    " # Model persistence"
   ]
  },
  {
   "cell_type": "code",
   "execution_count": 23,
   "metadata": {},
   "outputs": [],
   "source": [
    "from joblib import dump\n",
    "import pickle\n",
    "\n",
    "dump(grid, \"quartz_clf.joblib\")\n",
    "\n",
    "with open('quartz_clf.pkl', 'wb') as file:\n",
    "    pickle.dump(grid, file)\n"
   ]
  },
  {
   "cell_type": "markdown",
   "metadata": {},
   "source": [
    "# Decision regions"
   ]
  },
  {
   "cell_type": "code",
   "execution_count": null,
   "metadata": {},
   "outputs": [],
   "source": []
  },
  {
   "cell_type": "code",
   "execution_count": 18,
   "metadata": {},
   "outputs": [
    {
     "name": "stdout",
     "output_type": "stream",
     "text": [
      "                Al           Ti           Li           Ge           Sr\n",
      "count  1690.000000  1690.000000  1690.000000  1690.000000  1690.000000\n",
      "mean    458.278805    10.351195    22.974302     2.748185     1.117515\n",
      "std     713.740579    14.775312    66.724120     2.901546     2.998369\n",
      "min       3.860000     0.005280     0.030000     0.100000     0.000500\n",
      "25%      79.844400     1.302500     0.790000     1.300000     0.050700\n",
      "50%     168.235000     4.685000     3.475000     1.820000     0.117750\n",
      "75%     465.000000    12.762250    18.300000     2.866450     0.683000\n",
      "max    4205.080000   141.000000   786.900000    35.855000    54.280000\n"
     ]
    },
    {
     "name": "stderr",
     "output_type": "stream",
     "text": [
      "c:\\users\\yuwan\\scoop\\apps\\python\\3.7.9\\lib\\site-packages\\mlxtend\\plotting\\decision_regions.py:318: MatplotlibDeprecationWarning: Using a string of single character colors as a color sequence is deprecated since 3.2 and will be removed two minor releases later. Use an explicit list instead.\n",
      "  **scatter_highlight_kwargs)\n"
     ]
    },
    {
     "data": {
      "text/plain": [
       "['IRG',\n",
       " 'Carlin',\n",
       " 'Epithermal',\n",
       " 'Granite',\n",
       " 'Greisen',\n",
       " 'Orogenic',\n",
       " 'Pegmatite',\n",
       " 'Porphyry',\n",
       " 'Skarn']"
      ]
     },
     "execution_count": 18,
     "metadata": {},
     "output_type": "execute_result"
    },
    {
     "data": {
      "image/png": "[encoded data removed]",
      "text/plain": [
       "<Figure size 432x288 with 1 Axes>"
      ]
     },
     "metadata": {
      "needs_background": "light"
     },
     "output_type": "display_data"
    }
   ],
   "source": [
    "from mlxtend.plotting import plot_decision_regions\n",
    "\n",
    "colors= ['r'   , 'g'       ,'blueviolet',\n",
    "         'gold', 'deeppink', 'turquoise',\n",
    "         'gray', 'b'       , 'peru']\n",
    "\n",
    "color = 'r,g,b,lightblue,gold,gray,deeppink,peru,turquoise'\n",
    "markers = ['X','o','s','^','v','>','<','d', 'D', '*']\n",
    "scatter_kwargs = {'s': 20, 'edgecolor': None, 'alpha': 0.8}\n",
    "contourf_kwargs = {'alpha': 0.5}\n",
    "scatter_highlight_kwargs = {'s': 30, 'label': 'Test data', 'alpha': 0.7}\n",
    "\n",
    "# X = my_resample(100, random_state=42)\n",
    "# y = X.pop('qtype')\n",
    "X_np = np.array(X)\n",
    "# y_int = np.array(pd.factorize(y)[0])\n",
    "# Plotting decision regions\n",
    "fig, ax = plt.subplots()\n",
    "# Decision region for feature 3 = 1.5\n",
    "value = 1.5\n",
    "# Plot training sample with feature 3 = 1.5 +/- 0.75\n",
    "width = 20\n",
    "# print(classification_report(y, grid.predict(X)))\n",
    "print(X.describe())\n",
    "plot_decision_regions(X_np, y_int, clf=grid,\n",
    "                      feature_index = [3, 4],\n",
    "                      filler_feature_values={2: 2, 1: 13, 0: 52},\n",
    "                      filler_feature_ranges={2: width, 1: width, 0: width},\n",
    "                      legend=2, colors=color, markers=markers,\n",
    "                      zoom_factor = 5000,\n",
    "                      X_highlight=np.array(X_test),\n",
    "#                       scatter_kwargs=scatter_kwargs,\n",
    "#                       contourf_kwargs=contourf_kwargs,\n",
    "                      scatter_highlight_kwargs=scatter_highlight_kwargs,\n",
    "                      ax=ax)\n",
    "# ax.set(xlim=[0,10], ylim=[0,10])\n",
    "ax.set(yscale='log', xscale='log')\n",
    "handles, labels = ax.get_legend_handles_labels()\n",
    "ax.legend(handles, \n",
    "          index, \n",
    "           framealpha=0.0, scatterpoints=1)\n",
    "index"
   ]
  },
  {
   "cell_type": "code",
   "execution_count": 26,
   "metadata": {
    "scrolled": false
   },
   "outputs": [
    {
     "name": "stdout",
     "output_type": "stream",
     "text": [
      "                Al           Ti           Li           Ge           Sr\n",
      "count  1690.000000  1690.000000  1690.000000  1690.000000  1690.000000\n",
      "mean    458.278805    10.351195    22.974302     2.748185     1.117515\n",
      "std     713.740579    14.775312    66.724120     2.901546     2.998369\n",
      "min       3.860000     0.005280     0.030000     0.100000     0.000500\n",
      "25%      79.844400     1.302500     0.790000     1.300000     0.050700\n",
      "50%     168.235000     4.685000     3.475000     1.820000     0.117750\n",
      "75%     465.000000    12.762250    18.300000     2.866450     0.683000\n",
      "max    4205.080000   141.000000   786.900000    35.855000    54.280000\n"
     ]
    },
    {
     "data": {
      "image/png": "[encoded data removed]",
      "text/plain": [
       "<Figure size 547.2x360 with 6 Axes>"
      ]
     },
     "metadata": {
      "needs_background": "light"
     },
     "output_type": "display_data"
    }
   ],
   "source": [
    "fig, axes = plt.subplots(2, 3, figsize=(7.6,5))\n",
    "(ax1, ax2, ax3, ax4, ax5, ax6) = axes.flatten()\n",
    "\n",
    "# Decision region for feature 3 = 1.5\n",
    "value = 1.5\n",
    "# Plot training sample with feature 3 = 1.5 +/- 0.75\n",
    "width = 10\n",
    "# print(classification_report(y, grid.predict(X)))\n",
    "print(X.describe())\n",
    "# 0: 236, 1:7, 2:8, 3:2, 4:0.1, \n",
    "#ax1 \n",
    "plot_decision_regions(X_np, y_int, clf=grid,\n",
    "                      feature_index = [3, 4],\n",
    "                      filler_feature_values={2: 5, 1: 8, 0: 60},\n",
    "                      filler_feature_ranges={2: 5, 1: 5, 0: width},\n",
    "                      legend=0, colors=color, markers=markers,\n",
    "                      zoom_factor = 50000,\n",
    "#                       X_highlight=np.array(X_test),\n",
    "#                       scatter_kwargs=scatter_kwargs,\n",
    "                      contourf_kwargs=contourf_kwargs,\n",
    "#                       scatter_highlight_kwargs=scatter_highlight_kwargs,\n",
    "                      ax=ax1)\n",
    "ax1.set(xlim=[1e-1,1e1], ylim=[1e-2,25])\n",
    "ax1.set_title('Al=60 ppm, Ti=8 ppm, :Li=5 ppm', fontsize=8)\n",
    "ax1.set_xlabel('Ge (ppm)')\n",
    "ax1.set_ylabel('Sr (ppm)')\n",
    "\n",
    "#ax2\n",
    "plot_decision_regions(X_np, y_int, clf=grid,\n",
    "                      feature_index = [0, 4],\n",
    "                      filler_feature_values={ 2: 20, 3:2, 1: 10, }, # 0: 200,  4:0.08\n",
    "                      filler_feature_ranges={2: 5,  3: 5, 1: 5}, # 1: width, 0: width,\n",
    "                      legend=0, colors=color, markers=markers,\n",
    "                      zoom_factor = 50000,\n",
    "#                       X_highlight=np.array(X_test),\n",
    "#                       scatter_kwargs=scatter_kwargs,\n",
    "                      contourf_kwargs=contourf_kwargs,\n",
    "#                       scatter_highlight_kwargs=scatter_highlight_kwargs,\n",
    "                      ax=ax2)\n",
    "ax2.set_title('Ti=10 ppm, Li=20 ppm, Ge=10 ppm', fontsize=8)\n",
    "ax2.set_xlabel('Al (ppm)')\n",
    "ax2.set_ylabel('Sr (ppm)')\n",
    "\n",
    "#ax3\n",
    "plot_decision_regions(X_np, y_int, clf=grid,\n",
    "                      feature_index = [2, 3],\n",
    "                      filler_feature_values={1: 10,    0: 100,    4:0.08}, #   2: 20, 3:2,\n",
    "                      filler_feature_ranges={1: 5, 0: width,  4: 5}, # 2: width,  3: width,\n",
    "                      legend=0, colors=color, markers=markers,\n",
    "                      zoom_factor = 50000,\n",
    "#                       X_highlight=np.array(X_test),\n",
    "#                       scatter_kwargs=scatter_kwargs,\n",
    "                      contourf_kwargs=contourf_kwargs,\n",
    "#                       scatter_highlight_kwargs=scatter_highlight_kwargs,\n",
    "                      ax=ax3)\n",
    "ax3.set_title('Al=100 ppm, Ti=10 ppm, Sr=0.08 ppm', fontsize=8)\n",
    "ax3.set_xlabel('Li (ppm)')\n",
    "ax3.set_ylabel('Ge (ppm)')\n",
    "\n",
    "#ax4\n",
    "plot_decision_regions(X_np, y_int, clf=grid,\n",
    "                      feature_index = [1, 2],\n",
    "                      filler_feature_values={ 0:800, 3:10, 4:0.04}, # 0: 1333,  1: 2,\n",
    "                      filler_feature_ranges={0: 20,  4: 20, 3: 20}, # 1: width, 0: width,\n",
    "                      legend=0, colors=color, markers=markers,\n",
    "                      zoom_factor = 50000,\n",
    "#                       X_highlight=np.array(X_test),\n",
    "#                       scatter_kwargs=scatter_kwargs,\n",
    "                      contourf_kwargs=contourf_kwargs,\n",
    "#                       scatter_highlight_kwargs=scatter_highlight_kwargs,\n",
    "                      ax=ax4)\n",
    "ax4.set_title('Al=800 ppm, Ge=10 ppm, Sr=0.04 ppm', fontsize=8)\n",
    "ax4.set_xlabel('Ti (ppm)')\n",
    "ax4.set_ylabel('Li (ppm)')\n",
    "ax4.set(xlim=[1e-1,110])\n",
    "#ax5\n",
    "plot_decision_regions(X_np, y_int, clf=grid,\n",
    "                      feature_index = [0, 3],\n",
    "                      filler_feature_values={ 2: 20, 4:0.1, 1: 50, }, # 0: 200,  4:0.08\n",
    "                      filler_feature_ranges={2: width,  4: width, 1: width}, # 1: width, 0: width,\n",
    "                      legend=0, colors=color, markers=markers,\n",
    "                      zoom_factor = 50000,\n",
    "#                       X_highlight=np.array(X_test),\n",
    "#                       scatter_kwargs=scatter_kwargs,\n",
    "                      contourf_kwargs=contourf_kwargs,\n",
    "#                       scatter_highlight_kwargs=scatter_highlight_kwargs,\n",
    "                      ax=ax5)\n",
    "ax5.set_title('Ti=50 ppm, Li=20 ppm, Sr=0.1 ppm', fontsize=8)\n",
    "ax5.set_xlabel('Al (ppm)')\n",
    "ax5.set_ylabel('Ge (ppm)')\n",
    "\n",
    "#ax6\n",
    "plot_decision_regions(X_np, y_int, clf=grid,\n",
    "                      feature_index = [0, 2],\n",
    "                      filler_feature_values={3: 2, 4:0.06, 1: 80, }, # 0: 200,  4:0.08\n",
    "                      filler_feature_ranges={3: width,  4: width, 1: width}, # 1: width, 0: width,\n",
    "                      legend=0, colors=color, markers=markers,\n",
    "                      zoom_factor = 50000,\n",
    "#                       X_highlight=np.array(X_test),\n",
    "#                       scatter_kwargs=scatter_kwargs,\n",
    "                      contourf_kwargs=contourf_kwargs,\n",
    "#                       scatter_highlight_kwargs=scatter_highlight_kwargs,\n",
    "                      ax=ax6)\n",
    "ax6.set_title('Ti=80 ppm, Ge=2 ppm, Sr=0.06 ppm', fontsize=8)\n",
    "ax6.set_xlabel('Al (ppm)')\n",
    "ax6.set_ylabel('Li (ppm)')\n",
    "\n",
    "# ax.set(xlim=[0,10], ylim=[0,10])\n",
    "for ax in axes.flatten():\n",
    "    ax.set(yscale='log', xscale='log')\n",
    "\n",
    "fig.legend(handles, \n",
    "          index, bbox_to_anchor=(0.91, 0.01), \n",
    "           framealpha=0.0, scatterpoints=1, loc='upper right', ncol=5)\n",
    "plt.tight_layout()\n"
   ]
  },
  {
   "cell_type": "code",
   "execution_count": 27,
   "metadata": {},
   "outputs": [],
   "source": [
    "fig.savefig('./decision_region.pdf', dpi=300)\n",
    "fig.savefig('./decision_region.png', dpi=300)"
   ]
  },
  {
   "cell_type": "code",
   "execution_count": 21,
   "metadata": {},
   "outputs": [],
   "source": [
    "# #excute 30 times\n",
    "\n",
    "# report = classification_report(y_test, y_test_pred, output_dict=True)\n",
    "# catch = {}\n",
    "# for key, val in report.items():\n",
    "#     if key != 'accuracy':\n",
    "#         catch[key] = {}\n",
    "#         for subkey, subval in val.items():\n",
    "#             catch[key][subkey] = []\n",
    "#     else:\n",
    "#         catch[key] = []\n",
    "\n",
    "\n",
    "# random_states = range(50)\n",
    "# for random_state in random_states:\n",
    "#     X_train, X_test, y_train, y_test = train_test_split(X, y, test_size=0.2, random_state=random_state)\n",
    "#     clf = make_pipeline(log_transformer, StandardScaler(), \n",
    "#                         SVC(C=grid.best_params_['svc__C'], gamma=grid.best_params_['svc__gamma'], kernel= 'rbf', \n",
    "#                             cache_size=1000, class_weight=None, probability=False))\n",
    "#     clf.fit(X_train, y_train)\n",
    "#     temreport = classification_report(y_test, clf.predict(X_test), output_dict=True)\n",
    "#     for key, val in temreport.items():\n",
    "#         if key != 'accuracy':\n",
    "#             for subkey, subval in val.items():\n",
    "#                 catch[key][subkey].append(temreport[key][subkey])\n",
    "#         else:\n",
    "#             catch[key].append(temreport[key])\n",
    "\n",
    "# for key, val in catch.items():\n",
    "#     if key != 'accuracy':\n",
    "#         for subkey, subval in val.items():\n",
    "#             tem = catch[key][subkey]\n",
    "#             catch[key][subkey] = f'{np.mean(tem):2.2f}' + '±' + f'{np.std(tem):2.2f}'\n",
    "#     else:\n",
    "#         tem = catch[key]\n",
    "#         catch[key] = f'{np.mean(tem):2.2f}' + '±' + f'{np.std(tem):2.2f}'\n",
    "\n",
    "# for key, val in catch.items():\n",
    "#     if key != 'accuracy':\n",
    "#         temdf = pd.json_normalize(catch[key])\n",
    "#         try:\n",
    "#             i = int(key)\n",
    "#             print(index[i],'\\n', temdf)\n",
    "#         except:\n",
    "#             print(key,'\\n', temdf)\n",
    "#     else:\n",
    "#         print(key,'\\n', val)"
   ]
  },
  {
   "cell_type": "code",
   "execution_count": null,
   "metadata": {},
   "outputs": [],
   "source": []
  },
  {
   "cell_type": "code",
   "execution_count": null,
   "metadata": {},
   "outputs": [],
   "source": []
  },
  {
   "cell_type": "code",
   "execution_count": null,
   "metadata": {},
   "outputs": [],
   "source": []
  }
 ],
 "metadata": {
  "kernelspec": {
   "display_name": "Python 3",
   "language": "python",
   "name": "python3"
  },
  "language_info": {
   "codemirror_mode": {
    "name": "ipython",
    "version": 3
   },
   "file_extension": ".py",
   "mimetype": "text/x-python",
   "name": "python",
   "nbconvert_exporter": "python",
   "pygments_lexer": "ipython3",
   "version": "3.9.1"
  }
 },
 "nbformat": 4,
 "nbformat_minor": 2
}
